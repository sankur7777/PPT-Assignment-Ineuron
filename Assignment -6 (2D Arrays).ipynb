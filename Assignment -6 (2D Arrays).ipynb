{
 "cells": [
  {
   "cell_type": "markdown",
   "id": "f5625754",
   "metadata": {},
   "source": [
    "<aside>\n",
    "💡 **Question 1**\n",
    "\n",
    "A permutation perm of n + 1 integers of all the integers in the range [0, n] can be represented as a string s of length n where:\n",
    "\n",
    "- s[i] == 'I' if perm[i] < perm[i + 1], and\n",
    "- s[i] == 'D' if perm[i] > perm[i + 1].\n",
    "\n",
    "Given a string s, reconstruct the permutation perm and return it. If there are multiple valid permutations perm, return **any of them**.\n",
    "\n",
    "**Example 1:**\n",
    "\n",
    "**Input:** s = \"IDID\"\n",
    "\n",
    "**Output:**\n",
    "\n",
    "[0,4,1,3,2]\n",
    "\n",
    "</aside>"
   ]
  },
  {
   "cell_type": "code",
   "execution_count": 1,
   "id": "9e7b26ab",
   "metadata": {},
   "outputs": [],
   "source": [
    "def reconstruct_permutation(s):\n",
    "    perm = []\n",
    "    n = len(s)\n",
    "    max_num = n\n",
    "\n",
    "    for char in s:\n",
    "        if char == 'I':\n",
    "            perm.append(max_num - n)\n",
    "            n -= 1\n",
    "        elif char == 'D':\n",
    "            perm.append(max_num)\n",
    "            max_num += 1\n",
    "\n",
    "    perm.append(max_num - n)\n",
    "\n",
    "    return perm\n"
   ]
  },
  {
   "cell_type": "markdown",
   "id": "7c3425b1",
   "metadata": {},
   "source": [
    "<aside>\n",
    "💡 **Question 2**\n",
    "\n",
    "You are given an m x n integer matrix matrix with the following two properties:\n",
    "\n",
    "- Each row is sorted in non-decreasing order.\n",
    "- The first integer of each row is greater than the last integer of the previous row.\n",
    "\n",
    "Given an integer target, return true *if* target *is in* matrix *or* false *otherwise*\n",
    "\n",
    "</aside>"
   ]
  },
  {
   "cell_type": "code",
   "execution_count": 2,
   "id": "a1f97420",
   "metadata": {},
   "outputs": [],
   "source": [
    "def search_matrix(matrix, target):\n",
    "    m = len(matrix)\n",
    "    n = len(matrix[0])\n",
    "    left = 0\n",
    "    right = m * n - 1\n",
    "\n",
    "    while left <= right:\n",
    "        mid = left + (right - left) // 2\n",
    "        row = mid // n\n",
    "        col = mid % n\n",
    "\n",
    "        if matrix[row][col] == target:\n",
    "            return True\n",
    "        elif matrix[row][col] > target:\n",
    "            right = mid - 1\n",
    "        else:\n",
    "            left = mid + 1\n",
    "\n",
    "    return False\n"
   ]
  },
  {
   "cell_type": "markdown",
   "id": "624f1caa",
   "metadata": {},
   "source": [
    "<aside>\n",
    "💡 **Question 3**\n",
    "\n",
    "Given an array of integers arr, return *true if and only if it is a valid mountain array*.\n",
    "\n",
    "Recall that arr is a mountain array if and only if:\n",
    "\n",
    "- arr.length >= 3\n",
    "- There exists some i with 0 < i < arr.length - 1 such that:\n",
    "    - arr[0] < arr[1] < ... < arr[i - 1] < arr[i]\n",
    "    - arr[i] > arr[i + 1] > ... > arr[arr.length - 1]\n",
    "</aside>"
   ]
  },
  {
   "cell_type": "code",
   "execution_count": 3,
   "id": "9d1352b9",
   "metadata": {},
   "outputs": [],
   "source": [
    "def valid_mountain_array(arr):\n",
    "    n = len(arr)\n",
    "    left = 0\n",
    "    right = n - 1\n",
    "\n",
    "    while left < n - 1 and arr[left] < arr[left + 1]:\n",
    "        left += 1\n",
    "\n",
    "    while right > 0 and arr[right] < arr[right - 1]:\n",
    "        right -= 1\n",
    "\n",
    "    return left == right and left != 0 and right != n - 1\n"
   ]
  },
  {
   "cell_type": "markdown",
   "id": "3e51608c",
   "metadata": {},
   "source": [
    "<aside>\n",
    "💡 **Question 4**\n",
    "\n",
    "Given a binary array nums, return *the maximum length of a contiguous subarray with an equal number of* 0 *and* 1.\n",
    "\n",
    "**Example 1:**\n",
    "\n",
    "**Input:** nums = [0,1]\n",
    "\n",
    "**Output:** 2\n",
    "\n",
    "**Explanation:**\n",
    "\n",
    "[0, 1] is the longest contiguous subarray with an equal number of 0 and 1\n",
    "\n",
    "</aside>"
   ]
  },
  {
   "cell_type": "code",
   "execution_count": 4,
   "id": "5d008a6f",
   "metadata": {},
   "outputs": [],
   "source": [
    "def find_max_length(nums):\n",
    "    prefix_sums = {0: -1}\n",
    "    max_len = 0\n",
    "    count = 0\n",
    "\n",
    "    for i, num in enumerate(nums):\n",
    "        if num == 0:\n",
    "            count -= 1\n",
    "        else:\n",
    "            count += 1\n",
    "\n",
    "        if count in prefix_sums:\n",
    "            max_len = max(max_len, i - prefix_sums[count])\n",
    "        else:\n",
    "            prefix_sums[count] = i\n",
    "\n",
    "    return max_len\n"
   ]
  },
  {
   "cell_type": "markdown",
   "id": "5fa786cf",
   "metadata": {},
   "source": [
    "<aside>\n",
    "💡 **Question 5**\n",
    "\n",
    "The **product sum** of two equal-length arrays a and b is equal to the sum of a[i] * b[i] for all 0 <= i < a.length (**0-indexed**).\n",
    "\n",
    "- For example, if a = [1,2,3,4] and b = [5,2,3,1], the **product sum** would be 1*5 + 2*2 + 3*3 + 4*1 = 22.\n",
    "\n",
    "Given two arrays nums1 and nums2 of length n, return *the **minimum product sum** if you are allowed to **rearrange** the **order** of the elements in* nums1.\n",
    "\n",
    "**Example 1:**\n",
    "\n",
    "**Input:** nums1 = [5,3,4,2], nums2 = [4,2,2,5]\n",
    "\n",
    "**Output:** 40\n",
    "\n",
    "**Explanation:**\n",
    "\n",
    "We can rearrange nums1 to become [3,5,4,2]. The product sum of [3,5,4,2] and [4,2,2,5] is 3*4 + 5*2 + 4*2 + 2*5 = 40.\n",
    "\n",
    "</aside>"
   ]
  },
  {
   "cell_type": "code",
   "execution_count": 5,
   "id": "bb095354",
   "metadata": {},
   "outputs": [],
   "source": [
    "def min_product_sum(nums1, nums2):\n",
    "    nums1.sort()\n",
    "    nums2.sort(reverse=True)\n",
    "\n",
    "    min_product_sum = 0\n",
    "    for i in range(len(nums1)):\n",
    "        min_product_sum += nums1[i] * nums2[i]\n",
    "\n",
    "    return min_product_sum\n"
   ]
  },
  {
   "cell_type": "markdown",
   "id": "cb48538f",
   "metadata": {},
   "source": [
    "<aside>\n",
    "💡 **Question 6**\n",
    "\n",
    "An integer array original is transformed into a **doubled** array changed by appending **twice the value** of every element in original, and then randomly **shuffling** the resulting array.\n",
    "\n",
    "Given an array changed, return original *if* changed *is a **doubled** array. If* changed *is not a **doubled** array, return an empty array. The elements in* original *may be returned in **any** order*.\n",
    "\n",
    "**Example 1:**\n",
    "\n",
    "**Input:** changed = [1,3,4,2,6,8]\n",
    "\n",
    "**Output:** [1,3,4]\n",
    "\n",
    "**Explanation:** One possible original array could be [1,3,4]:\n",
    "\n",
    "- Twice the value of 1 is 1 * 2 = 2.\n",
    "- Twice the value of 3 is 3 * 2 = 6.\n",
    "- Twice the value of 4 is 4 * 2 = 8.\n",
    "\n",
    "Other original arrays could be [4,3,1] or [3,1,4]\n",
    "\n",
    "</aside>"
   ]
  },
  {
   "cell_type": "code",
   "execution_count": 6,
   "id": "187ea527",
   "metadata": {},
   "outputs": [],
   "source": [
    "def findOriginalArray(changed):\n",
    "    if len(changed) % 2 != 0:\n",
    "        return []  # If the length of changed is odd, it cannot be a doubled array\n",
    "    \n",
    "    changed.sort()\n",
    "    seen = set()\n",
    "\n",
    "    original = []\n",
    "    for num in changed:\n",
    "        if num // 2 not in seen:\n",
    "            return []  # Doubling property violated\n",
    "        seen.add(num)\n",
    "        original.append(num // 2)\n",
    "\n",
    "    return original\n"
   ]
  },
  {
   "cell_type": "code",
   "execution_count": null,
   "id": "0e35f870",
   "metadata": {},
   "outputs": [],
   "source": []
  }
 ],
 "metadata": {
  "kernelspec": {
   "display_name": "Python 3 (ipykernel)",
   "language": "python",
   "name": "python3"
  },
  "language_info": {
   "codemirror_mode": {
    "name": "ipython",
    "version": 3
   },
   "file_extension": ".py",
   "mimetype": "text/x-python",
   "name": "python",
   "nbconvert_exporter": "python",
   "pygments_lexer": "ipython3",
   "version": "3.9.12"
  }
 },
 "nbformat": 4,
 "nbformat_minor": 5
}
